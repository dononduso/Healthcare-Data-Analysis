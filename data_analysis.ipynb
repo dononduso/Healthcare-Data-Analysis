import pandas as pd

# Load dataset
df = pd.read_excel("data.xlsx")

# Display first few rows
print(df.head())

# Show summary statistics
print(df.describe())
